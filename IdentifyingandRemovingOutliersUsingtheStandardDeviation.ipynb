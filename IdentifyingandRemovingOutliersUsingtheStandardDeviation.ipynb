{
 "cells": [
  {
   "cell_type": "code",
   "execution_count": 2,
   "id": "a6f9a293-54e9-4366-af52-a2ce82109aaf",
   "metadata": {},
   "outputs": [],
   "source": [
    "# identify outliers with standard deviation\n",
    "from numpy.random import seed\n",
    "from numpy.random import randn\n",
    "from numpy import mean\n",
    "from numpy import std"
   ]
  },
  {
   "cell_type": "code",
   "execution_count": 3,
   "id": "eda85f91-c0ef-4528-85a0-6d1682423379",
   "metadata": {},
   "outputs": [],
   "source": [
    "# seed the random number generator\n",
    "seed(1)"
   ]
  },
  {
   "cell_type": "code",
   "execution_count": 4,
   "id": "94344449-acc0-4bf7-b41b-492486e89c40",
   "metadata": {},
   "outputs": [],
   "source": [
    "# generate univariate observations\n",
    "data = 5 * randn(10000) +50"
   ]
  },
  {
   "cell_type": "code",
   "execution_count": 5,
   "id": "456d19b0-ceb5-470e-9e54-b858d94d747a",
   "metadata": {},
   "outputs": [],
   "source": [
    "# calculate summary statistics\n",
    "data_mean, data_std = mean(data), std(data)"
   ]
  },
  {
   "cell_type": "code",
   "execution_count": 8,
   "id": "23d52f53-0538-4cb4-a4de-1cbd64a1c6b0",
   "metadata": {},
   "outputs": [],
   "source": [
    "# define outliers\n",
    "cut_off = data_std * 3\n",
    "lower, upper = data_mean - cut_off, data_mean + cut_off"
   ]
  },
  {
   "cell_type": "code",
   "execution_count": 9,
   "id": "63e885a8-399f-4c96-8b9a-d29ea45067e8",
   "metadata": {},
   "outputs": [
    {
     "name": "stdout",
     "output_type": "stream",
     "text": [
      "IDENTIFIER OUTLIER :29\n"
     ]
    }
   ],
   "source": [
    "# identify outliers\n",
    "outliers = [x for x in data if x < lower or x > upper]\n",
    "print('IDENTIFIER OUTLIER :%d' % len(outliers))"
   ]
  },
  {
   "cell_type": "code",
   "execution_count": 10,
   "id": "118ec934-328a-4931-befe-e6d82cf95da0",
   "metadata": {},
   "outputs": [
    {
     "name": "stdout",
     "output_type": "stream",
     "text": [
      "NON-OUTLIER OBSERVATION : 9971\n"
     ]
    }
   ],
   "source": [
    "# remove outliers\n",
    "outliers_removed = [x for x in data if x >= lower and x <= upper]\n",
    "print('NON-OUTLIER OBSERVATION : %d' % len(outliers_removed))"
   ]
  }
 ],
 "metadata": {
  "kernelspec": {
   "display_name": "Python 3 (ipykernel)",
   "language": "python",
   "name": "python3"
  },
  "language_info": {
   "codemirror_mode": {
    "name": "ipython",
    "version": 3
   },
   "file_extension": ".py",
   "mimetype": "text/x-python",
   "name": "python",
   "nbconvert_exporter": "python",
   "pygments_lexer": "ipython3",
   "version": "3.10.12"
  }
 },
 "nbformat": 4,
 "nbformat_minor": 5
}
